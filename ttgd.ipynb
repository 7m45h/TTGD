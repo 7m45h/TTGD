{
  "nbformat": 4,
  "nbformat_minor": 0,
  "metadata": {
    "colab": {
      "private_outputs": true,
      "provenance": []
    },
    "kernelspec": {
      "name": "python3",
      "display_name": "Python 3"
    },
    "language_info": {
      "name": "python"
    }
  },
  "cells": [
    {
      "cell_type": "code",
      "source": [
        "# @title <h1><b>&#11024; install dependencies</b></h1> { vertical-output: true, form-width: \"25%\", display-mode: \"form\" }\n",
        "\n",
        "!apt install python3-libtorrent"
      ],
      "metadata": {
        "id": "mIpKJqpQXhFX",
        "collapsed": true
      },
      "execution_count": null,
      "outputs": []
    },
    {
      "cell_type": "code",
      "source": [
        "# @title <h1><b>&#11024; start download</b></h1> { vertical-output: true, form-width: \"25%\", display-mode: \"form\" }\n",
        "\n",
        "# @markdown ---\n",
        "# @markdown <center><h1><b>ttgd</b></h1></center>\n",
        "# @markdown <center><h1><b>[ libtorrent ] . [ python ] . [ google ]<b></h1></center>\n",
        "# @markdown\n",
        "# @markdown ---\n",
        "# @markdown <br><br>\n",
        "\n",
        "magnet = \"\" # @param {\"type\":\"string\",\"placeholder\":\"magnet:?xt=urn:btih:\"}\n",
        "\n",
        "import libtorrent as lt\n",
        "import time\n",
        "import sys\n",
        "\n",
        "session = lt.session({\"listen_interfaces\": \"0.0.0.0:6881\"})\n",
        "torrent = lt.parse_magnet_uri(magnet)\n",
        "torrent.save_path = \"/content/\"\n",
        "downloader = session.add_torrent(torrent)\n",
        "\n",
        "print(\"[!] downloading metadata...\\n\")\n",
        "\n",
        "while not downloader.status().has_metadata:\n",
        "  time.sleep(1)\n",
        "\n",
        "print(f\"[!] downloading {downloader.status().name}...\\n\")\n",
        "\n",
        "while not downloader.status().is_seeding:\n",
        "  print(f\"{(downloader.status().progress * 100):06.2f}% completed | download_rate: {(downloader.status().download_rate / 1000000):06.2f} MB/s | upload_rate: {(downloader.status().upload_rate / 1000000):06.2f} MB/s | peers_connected: {downloader.status().num_peers:04d} | state: {downloader.status().state}\")\n",
        "  time.sleep(5)\n",
        "\n",
        "print(f\"{(downloader.status().progress * 100):06.2f}% completed | download_rate: {(downloader.status().download_rate / 1000000):06.2f} MB/s | upload_rate: {(downloader.status().upload_rate / 1000000):06.2f} MB/s | peers_connected: {downloader.status().num_peers:04d} | state: {downloader.status().state}\")\n",
        "print(\"\\n[!] download finished\\n\")\n"
      ],
      "metadata": {
        "id": "ddZ6YloFdkBS"
      },
      "execution_count": null,
      "outputs": []
    },
    {
      "cell_type": "markdown",
      "source": [
        "# **open `Files` tab in side panel after download**\n",
        "\n",
        "*   **donload them directly**\n",
        "*   **move theme to google drive**\n",
        "\n",
        "# **do not forget to disconnet and delete runtime after you done!**"
      ],
      "metadata": {
        "id": "OP8xZEuusGB8"
      }
    }
  ]
}